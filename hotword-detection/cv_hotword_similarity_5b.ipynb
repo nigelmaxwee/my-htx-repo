{
  "cells": [
    {
      "cell_type": "markdown",
      "metadata": {},
      "source": [
        "# Libraries and dependencies"
      ]
    },
    {
      "cell_type": "code",
      "execution_count": null,
      "metadata": {},
      "outputs": [],
      "source": [
        "pip install -r requirements2.txt"
      ]
    },
    {
      "cell_type": "code",
      "execution_count": null,
      "metadata": {},
      "outputs": [],
      "source": [
        "import pandas as pd\n",
        "import numpy as np\n",
        "from sklearn.metrics.pairwise import cosine_similarity\n",
        "import re\n",
        "from tqdm import tqdm\n",
        "from InstructorEmbedding import INSTRUCTOR"
      ]
    },
    {
      "cell_type": "markdown",
      "metadata": {},
      "source": [
        "# Hot word similarity"
      ]
    },
    {
      "cell_type": "markdown",
      "metadata": {},
      "source": [
        "## Load dev dataset"
      ]
    },
    {
      "cell_type": "code",
      "execution_count": null,
      "metadata": {},
      "outputs": [],
      "source": [
        "# Normalize function\n",
        "def normalize_text(text):\n",
        "    text = re.sub(r\"<unk>\", \"\", text, flags=re.IGNORECASE)\n",
        "    text = text.upper().strip()\n",
        "    text = re.sub(r\"[^A-Z' ]+\", \"\", text)\n",
        "    text = re.sub(r\"\\s+\", \" \", text).strip()\n",
        "    return text\n"
      ]
    },
    {
      "cell_type": "code",
      "execution_count": null,
      "metadata": {},
      "outputs": [],
      "source": [
        "# Load dataset from your path\n",
        "df = pd.read_csv(\"../data/cv-valid-dev.csv\")\n",
        "df[\"normalized_text\"] = df[\"text\"].apply(normalize_text)"
      ]
    },
    {
      "cell_type": "markdown",
      "metadata": {},
      "source": [
        "## Load embedding model"
      ]
    },
    {
      "cell_type": "code",
      "execution_count": null,
      "metadata": {},
      "outputs": [],
      "source": [
        "# Load Instructor Model\n",
        "model = INSTRUCTOR(\"hkunlp/instructor-large\")"
      ]
    },
    {
      "cell_type": "markdown",
      "metadata": {},
      "source": [
        "## Define task and hot words"
      ]
    },
    {
      "cell_type": "code",
      "execution_count": null,
      "metadata": {},
      "outputs": [],
      "source": [
        "# Task and Hotwords\n",
        "task = \"Retrieve sentences related to the hotword\" # Refer to https://huggingface.co/hkunlp/instructor-large for more information\n",
        "hotwords = [\"BE CAREFUL\", \"DESTROY\", \"STRANGER\"]\n",
        "hotword_embeddings = model.encode([[task, word] for word in hotwords])"
      ]
    },
    {
      "cell_type": "markdown",
      "metadata": {},
      "source": [
        "## Set similarity threshold"
      ]
    },
    {
      "cell_type": "code",
      "execution_count": null,
      "metadata": {},
      "outputs": [],
      "source": [
        "# Set similarity threshold\n",
        "SIMILARITY_THRESHOLD = 0.85 # Arbitrary value, higher value would represent more similar, lower value would represent less similar"
      ]
    },
    {
      "cell_type": "markdown",
      "metadata": {},
      "source": [
        "## Compute similarity and classify if phrase is similar or not similar"
      ]
    },
    {
      "cell_type": "code",
      "execution_count": null,
      "metadata": {
        "colab": {
          "base_uri": "https://localhost:8080/"
        },
        "id": "7hAHs9x3KMzC",
        "outputId": "f3da213a-0c45-4c02-cac0-648ad602c677"
      },
      "outputs": [],
      "source": [
        "# Compute similarity for each row\n",
        "similar_flags = []\n",
        "\n",
        "for text in tqdm(df[\"normalized_text\"], desc=\"Computing Similarities\"):\n",
        "    embedding = model.encode([[task, text]])[0]\n",
        "    sims = cosine_similarity([embedding], hotword_embeddings)[0]\n",
        "    is_similar = any(s >= SIMILARITY_THRESHOLD for s in sims)\n",
        "    similar_flags.append(is_similar)\n",
        "\n",
        "# Add result column\n",
        "df[\"similarity\"] = similar_flags\n",
        "\n",
        "# Save the updated DataFrame\n",
        "output_path = \"../hotword-detection/cv-valid-dev-similarity.csv\"\n",
        "df.to_csv(output_path, index=False)\n",
        "print(f\"Saved updated file to {output_path}\")\n"
      ]
    },
    {
      "cell_type": "code",
      "execution_count": null,
      "metadata": {
        "id": "MPFbHBABLfFY"
      },
      "outputs": [],
      "source": []
    }
  ],
  "metadata": {
    "accelerator": "GPU",
    "colab": {
      "gpuType": "T4",
      "provenance": []
    },
    "kernelspec": {
      "display_name": ".venv",
      "language": "python",
      "name": "python3"
    },
    "language_info": {
      "codemirror_mode": {
        "name": "ipython",
        "version": 3
      },
      "file_extension": ".py",
      "mimetype": "text/x-python",
      "name": "python",
      "nbconvert_exporter": "python",
      "pygments_lexer": "ipython3",
      "version": "3.13.1"
    }
  },
  "nbformat": 4,
  "nbformat_minor": 0
}
