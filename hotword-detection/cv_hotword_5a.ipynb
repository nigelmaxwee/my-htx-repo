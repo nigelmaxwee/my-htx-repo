{
  "cells": [
    {
      "cell_type": "markdown",
      "metadata": {},
      "source": [
        "# Libraries and dependencies"
      ]
    },
    {
      "cell_type": "code",
      "execution_count": null,
      "metadata": {
        "colab": {
          "base_uri": "https://localhost:8080/"
        },
        "id": "DJP-bgFKFXxc",
        "outputId": "84210ac3-1d97-4749-c162-38b24453b8cc"
      },
      "outputs": [],
      "source": [
        "pip install -r requirements.txt"
      ]
    },
    {
      "cell_type": "code",
      "execution_count": null,
      "metadata": {
        "id": "WMOYIkjiGwn2"
      },
      "outputs": [],
      "source": [
        "import os\n",
        "import re\n",
        "\n",
        "import numpy as np\n",
        "import pandas as pd\n",
        "import soundfile as sf\n",
        "import librosa\n",
        "\n",
        "from jiwer import wer, cer\n",
        "from tqdm import tqdm\n",
        "\n",
        "import torch\n",
        "\n",
        "from transformers import Wav2Vec2ForCTC, Wav2Vec2Processor\n"
      ]
    },
    {
      "cell_type": "markdown",
      "metadata": {},
      "source": [
        "# cv-valid-dev evaluation"
      ]
    },
    {
      "cell_type": "code",
      "execution_count": null,
      "metadata": {
        "id": "If6MmSvrGqLz"
      },
      "outputs": [],
      "source": [
        "# Normalize text\n",
        "def normalize_text(text):\n",
        "    text = re.sub(r\"<unk>\", \"\", text, flags=re.IGNORECASE)\n",
        "    text = text.upper().strip()\n",
        "    text = re.sub(r\"[^A-Z' ]+\", \"\", text)\n",
        "    text = re.sub(r\"\\s+\", \" \", text).strip()\n",
        "    return text"
      ]
    },
    {
      "cell_type": "markdown",
      "metadata": {},
      "source": [
        "## Load dev dataset"
      ]
    },
    {
      "cell_type": "code",
      "execution_count": null,
      "metadata": {
        "id": "UVY1sKs6Gk1o"
      },
      "outputs": [],
      "source": [
        "# Load test CSV\n",
        "dev_df = pd.read_csv(\"../data/cv-valid-dev.csv\")\n",
        "dev_df[\"normalized_text\"] = dev_df[\"text\"].apply(normalize_text)\n",
        "DATA_DIR_DEV = \"../data/cv-valid-dev\"\n"
      ]
    },
    {
      "cell_type": "markdown",
      "metadata": {},
      "source": [
        "## Load finetuned model"
      ]
    },
    {
      "cell_type": "code",
      "execution_count": null,
      "metadata": {
        "colab": {
          "base_uri": "https://localhost:8080/"
        },
        "id": "wENlR8w-EGeb",
        "outputId": "44bc9f45-962a-482c-9caa-e7266520a857"
      },
      "outputs": [],
      "source": [
        "# Define the path\n",
        "model_path = \"/content/drive/MyDrive/Colab Notebooks/my-htx-repo/asr-train/wav2vec2-large-960h-cv\"\n",
        "\n",
        "# Load model and processor\n",
        "model = Wav2Vec2ForCTC.from_pretrained(model_path)\n",
        "processor = Wav2Vec2Processor.from_pretrained(model_path)\n",
        "\n",
        "# Set model to eval mode and move to appropriate device\n",
        "model.eval().to(\"cuda\" if torch.cuda.is_available() else \"cpu\")\n"
      ]
    },
    {
      "cell_type": "markdown",
      "metadata": {},
      "source": [
        "## Inference of dev dataset"
      ]
    },
    {
      "cell_type": "code",
      "execution_count": null,
      "metadata": {
        "colab": {
          "base_uri": "https://localhost:8080/"
        },
        "id": "__7VdOYyFW4E",
        "outputId": "ee87d116-e17f-476e-b3d6-efd8bba4b138"
      },
      "outputs": [],
      "source": [
        "ground_truths = []\n",
        "predictions = []\n",
        "\n",
        "for row in tqdm(dev_df.itertuples(), total=len(dev_df)):\n",
        "    file_path = os.path.join(DATA_DIR_DEV, row.filename)\n",
        "    true_text = row.normalized_text\n",
        "\n",
        "    # Load audio\n",
        "    audio, sr = sf.read(file_path)\n",
        "    if len(audio.shape) > 1:\n",
        "        audio = np.mean(audio, axis=1)\n",
        "    if sr != 16000:\n",
        "        audio = librosa.resample(audio, orig_sr=sr, target_sr=16000)\n",
        "    audio = audio / np.max(np.abs(audio))\n",
        "\n",
        "    # Run inference\n",
        "    inputs = processor(audio, sampling_rate=16000, return_tensors=\"pt\", padding=True).to(model.device)\n",
        "    with torch.no_grad():\n",
        "        logits = model(**inputs).logits\n",
        "    pred_ids = torch.argmax(logits, dim=-1)\n",
        "    pred_text = processor.batch_decode(pred_ids)[0]\n",
        "    pred_text = normalize_text(pred_text)\n",
        "\n",
        "    predictions.append(pred_text)\n",
        "    ground_truths.append(true_text)"
      ]
    },
    {
      "cell_type": "markdown",
      "metadata": {},
      "source": [
        "## Sanity check"
      ]
    },
    {
      "cell_type": "code",
      "execution_count": null,
      "metadata": {
        "colab": {
          "base_uri": "https://localhost:8080/"
        },
        "id": "b80i5N25FWht",
        "outputId": "af412365-9fa2-476d-f195-fc1d213f189f"
      },
      "outputs": [],
      "source": [
        "final_wer = wer(ground_truths, predictions)\n",
        "final_cer = cer(ground_truths, predictions)\n",
        "\n",
        "print(f\"\\n Finetuned Dev Set Evaluation:\")\n",
        "print(f\"WER: {final_wer:.4f}\")\n",
        "print(f\"CER: {final_cer:.4f}\")\n"
      ]
    },
    {
      "cell_type": "markdown",
      "metadata": {},
      "source": [
        "## Save predictions"
      ]
    },
    {
      "cell_type": "code",
      "execution_count": null,
      "metadata": {
        "colab": {
          "base_uri": "https://localhost:8080/"
        },
        "id": "wpOAAO3FHhqH",
        "outputId": "7d69efe2-9e65-4ea7-d519-7a9ea82877d3"
      },
      "outputs": [],
      "source": [
        "# Save results to CSV\n",
        "results_df = pd.DataFrame({\n",
        "    \"filename\": dev_df[\"filename\"].tolist(),\n",
        "    \"ground_truth\": ground_truths,\n",
        "    \"prediction\": predictions\n",
        "})\n",
        "\n",
        "results_df.to_csv(\"cv-valid-dev_predictions.csv\", index=False)\n",
        "print(\"Predictions saved to cv-valid-dev_predictions.csv\")\n"
      ]
    },
    {
      "cell_type": "markdown",
      "metadata": {},
      "source": [
        "## Filter rows by hot words - BE CAREFUL, DESTROY, STRANGER"
      ]
    },
    {
      "cell_type": "code",
      "execution_count": null,
      "metadata": {
        "colab": {
          "base_uri": "https://localhost:8080/"
        },
        "id": "MBbO3z49JCLY",
        "outputId": "cdb7d1de-a04d-448e-96f9-4f5bf4d084d0"
      },
      "outputs": [],
      "source": [
        "# Load predictions CSV (if not already in memory)\n",
        "results_df = pd.read_csv(\"cv-valid-dev_predictions.csv\")\n",
        "\n",
        "# Normalize text to uppercase\n",
        "results_df[\"ground_truth\"] = results_df[\"ground_truth\"].str.upper()\n",
        "results_df[\"prediction\"] = results_df[\"prediction\"].str.upper()\n",
        "\n",
        "# Define keywords to search\n",
        "keywords = [\"BE CAREFUL\", \"DESTROY\", \"STRANGER\"]\n",
        "\n",
        "# Function to check if a row has any of the keywords in ground truth\n",
        "def has_keyword(text):\n",
        "    return any(keyword in text for keyword in keywords)\n",
        "\n",
        "# Filter only rows where ground truth contains at least one keyword\n",
        "filtered_dev_df = results_df[results_df[\"ground_truth\"].apply(has_keyword)].copy()\n",
        "\n",
        "# Determine which keyword(s) are present in the ground truth\n",
        "def get_matching_keyword(row):\n",
        "    for keyword in keywords:\n",
        "        if keyword in row[\"ground_truth\"]:\n",
        "            return keyword\n",
        "    return None  # should not happen due to previous filtering\n",
        "\n",
        "filtered_dev_df[\"keyword\"] = filtered_dev_df.apply(get_matching_keyword, axis=1)\n",
        "\n",
        "# Check if the same keyword exists in the prediction\n",
        "filtered_dev_df[\"label\"] = filtered_dev_df.apply(\n",
        "    lambda row: 1 if row[\"keyword\"] in row[\"prediction\"] else 0,\n",
        "    axis=1\n",
        ")\n",
        "\n",
        "# Save the filtered DataFrame\n",
        "filtered_dev_df.to_csv(\"cv-valid-dev_filtered_keywords.csv\", index=False)\n",
        "print(\"Filtered keyword detection results saved to cv-valid-dev_filtered_keywords.csv\")\n"
      ]
    },
    {
      "cell_type": "markdown",
      "metadata": {},
      "source": [
        "## Save detected.txt"
      ]
    },
    {
      "cell_type": "code",
      "execution_count": null,
      "metadata": {
        "colab": {
          "base_uri": "https://localhost:8080/"
        },
        "id": "k-z4j-qKJThY",
        "outputId": "98cd504f-dc30-449b-cd71-47879a40caec"
      },
      "outputs": [],
      "source": [
        "# Filter rows with correctly detected hotwords (label == 1)\n",
        "detected_filenames = filtered_dev_df[filtered_dev_df[\"label\"] == 1][\"filename\"]\n",
        "\n",
        "# Save to detected.txt\n",
        "with open(\"detected.txt\", \"w\") as f:\n",
        "    for filename in detected_filenames:\n",
        "        f.write(f\"{filename}\\n\")\n",
        "\n",
        "print(\"Hotword-detected filenames saved to detected.txt\")\n"
      ]
    },
    {
      "cell_type": "code",
      "execution_count": null,
      "metadata": {
        "id": "sbai7WuNRpcN"
      },
      "outputs": [],
      "source": []
    }
  ],
  "metadata": {
    "accelerator": "GPU",
    "colab": {
      "gpuType": "T4",
      "provenance": []
    },
    "kernelspec": {
      "display_name": ".venv",
      "language": "python",
      "name": "python3"
    },
    "language_info": {
      "codemirror_mode": {
        "name": "ipython",
        "version": 3
      },
      "file_extension": ".py",
      "mimetype": "text/x-python",
      "name": "python",
      "nbconvert_exporter": "python",
      "pygments_lexer": "ipython3",
      "version": "3.13.1"
    }
  },
  "nbformat": 4,
  "nbformat_minor": 0
}
